{
 "cells": [
  {
   "cell_type": "code",
   "execution_count": 1,
   "id": "192f811b",
   "metadata": {},
   "outputs": [
    {
     "name": "stdout",
     "output_type": "stream",
     "text": [
      "result2:\n",
      "[]\n"
     ]
    },
    {
     "ename": "SystemExit",
     "evalue": "0",
     "output_type": "error",
     "traceback": [
      "An exception has occurred, use %tb to see the full traceback.\n",
      "\u001b[1;31mSystemExit\u001b[0m\u001b[1;31m:\u001b[0m 0\n"
     ]
    },
    {
     "name": "stderr",
     "output_type": "stream",
     "text": [
      "C:\\Users\\user\\anaconda3\\lib\\site-packages\\IPython\\core\\interactiveshell.py:3377: UserWarning: To exit: use 'exit', 'quit', or Ctrl-D.\n",
      "  warn(\"To exit: use 'exit', 'quit', or Ctrl-D.\", stacklevel=1)\n"
     ]
    }
   ],
   "source": [
    "import sys\n",
    "import speech_recognition as sr\n",
    "import pyaudio\n",
    "import wave\n",
    "from PyQt5.QtWidgets import QApplication, QWidget, QLabel, QVBoxLayout\n",
    "\n",
    "class MainWindow(QWidget):\n",
    "    def __init__(self):\n",
    "        super().__init__()\n",
    "\n",
    "        # set up the user interface\n",
    "        self.title = 'Speech Recognition Demo'\n",
    "        self.label = QLabel('Say something...')\n",
    "        self.layout = QVBoxLayout()\n",
    "        self.layout.addWidget(self.label)\n",
    "        self.setLayout(self.layout)\n",
    "\n",
    "        # initialize the SpeechRecognition object\n",
    "        self.r = sr.Recognizer()\n",
    "\n",
    "        # initialize the PyAudio object\n",
    "        self.pyaudio = pyaudio.PyAudio()\n",
    "\n",
    "        # start recording when the user interface is shown\n",
    "        self.show()\n",
    "        self.record_audio()\n",
    "\n",
    "    def record_audio(self):\n",
    "        with sr.Microphone() as source:\n",
    "            # adjust the microphone sensitivity if needed\n",
    "            self.r.adjust_for_ambient_noise(source)\n",
    "\n",
    "            # display a message to indicate that recording has started\n",
    "            self.label.setText('Recording...')\n",
    "\n",
    "            # record audio from the microphone\n",
    "            audio = self.r.listen(source)\n",
    "\n",
    "            # save the recorded audio to a WAV file\n",
    "            with wave.open('output.wav', 'wb') as f:\n",
    "                f.setnchannels(1)\n",
    "                f.setsampwidth(self.pyaudio.get_sample_size(pyaudio.paInt16))\n",
    "                f.setframerate(44100)\n",
    "                f.writeframes(audio.get_wav_data())\n",
    "\n",
    "            # transcribe the spoken words using Google Speech Recognition\n",
    "            try:\n",
    "                text = self.r.recognize_google(audio)\n",
    "            except sr.UnknownValueError:\n",
    "                text = \"Could not understand audio\"\n",
    "            except sr.RequestError as e:\n",
    "                text = \"Could not request results; {0}\".format(e)\n",
    "\n",
    "            # display the transcribed text in the user interface\n",
    "            self.label.setText('You said: ' + text)\n",
    "\n",
    "            # play the recorded audio back to the user\n",
    "            wf = wave.open('output.wav', 'rb')\n",
    "            stream = self.pyaudio.open(format=self.pyaudio.get_format_from_width(wf.getsampwidth()),\n",
    "                                       channels=wf.getnchannels(),\n",
    "                                       rate=wf.getframerate(),\n",
    "                                       output=True)\n",
    "            data = wf.readframes(1024)\n",
    "            while data:\n",
    "                stream.write(data)\n",
    "                data = wf.readframes(1024)\n",
    "            stream.stop_stream()\n",
    "            stream.close()\n",
    "            wf.close()\n",
    "\n",
    "if __name__ == '__main__':\n",
    "    app = QApplication(sys.argv)\n",
    "    window = MainWindow()\n",
    "    sys.exit(app.exec_())\n"
   ]
  },
  {
   "cell_type": "code",
   "execution_count": 1,
   "id": "501159b3",
   "metadata": {},
   "outputs": [
    {
     "name": "stdout",
     "output_type": "stream",
     "text": [
      "result2:\n",
      "{   'alternative': [   {   'confidence': 0.88687539,\n",
      "                           'transcript': 'open the door'},\n",
      "                       {'transcript': 'open the'}],\n",
      "    'final': True}\n"
     ]
    },
    {
     "ename": "SystemExit",
     "evalue": "0",
     "output_type": "error",
     "traceback": [
      "An exception has occurred, use %tb to see the full traceback.\n",
      "\u001b[1;31mSystemExit\u001b[0m\u001b[1;31m:\u001b[0m 0\n"
     ]
    },
    {
     "name": "stderr",
     "output_type": "stream",
     "text": [
      "C:\\Users\\user\\anaconda3\\lib\\site-packages\\IPython\\core\\interactiveshell.py:3377: UserWarning: To exit: use 'exit', 'quit', or Ctrl-D.\n",
      "  warn(\"To exit: use 'exit', 'quit', or Ctrl-D.\", stacklevel=1)\n"
     ]
    }
   ],
   "source": [
    "\n",
    "\n",
    "import sys\n",
    "import speech_recognition as sr\n",
    "import pyaudio\n",
    "import wave\n",
    "from PyQt5.QtWidgets import QApplication, QWidget, QLabel, QVBoxLayout\n",
    "\n",
    "class MainWindow(QWidget):\n",
    "    def __init__(self):\n",
    "        super().__init__()\n",
    "\n",
    "        # set up the user interface\n",
    "        self.title = 'Speech Recognition Demo'\n",
    "        self.label = QLabel('Say something...')\n",
    "        self.layout = QVBoxLayout()\n",
    "        self.layout.addWidget(self.label)\n",
    "        self.setLayout(self.layout)\n",
    "\n",
    "        # initialize the SpeechRecognition object\n",
    "        self.r = sr.Recognizer()\n",
    "\n",
    "        # initialize the PyAudio object\n",
    "        self.pyaudio = pyaudio.PyAudio()\n",
    "\n",
    "        # start recording when the user interface is shown\n",
    "        self.show()\n",
    "        self.record_audio()\n",
    "\n",
    "    def record_audio(self):\n",
    "        with sr.Microphone() as source:\n",
    "            # adjust the microphone sensitivity if needed\n",
    "            self.r.adjust_for_ambient_noise(source)\n",
    "\n",
    "            # display a message to indicate that recording has started\n",
    "            self.label.setText('Recording...')\n",
    "\n",
    "            # record audio from the microphone\n",
    "            audio = self.r.listen(source)\n",
    "\n",
    "            # save the recorded audio to a WAV file\n",
    "            with wave.open('bk7.wav', 'wb') as f:\n",
    "                f.setnchannels(1)\n",
    "                f.setsampwidth(self.pyaudio.get_sample_size(pyaudio.paInt16))\n",
    "                f.setframerate(44100)\n",
    "                f.writeframes(audio.get_wav_data())\n",
    "\n",
    "            # transcribe the spoken words using Google Speech Recognition\n",
    "            try:\n",
    "                text = self.r.recognize_google(audio)\n",
    "            except sr.UnknownValueError:\n",
    "                text = \"Could not understand audio\"\n",
    "            except sr.RequestError as e:\n",
    "                text = \"Could not request results; {0}\".format(e)\n",
    "\n",
    "            # display the transcribed text in the user interface\n",
    "            self.label.setText('You said: ' + text)\n",
    "\n",
    "            # play the recorded audio back to the user\n",
    "            wf = wave.open('bk7.wav', 'rb')\n",
    "            stream = self.pyaudio.open(format=self.pyaudio.get_format_from_width(wf.getsampwidth()),\n",
    "                                       channels=wf.getnchannels(),\n",
    "                                       rate=wf.getframerate(),\n",
    "                                       output=True)\n",
    "            data = wf.readframes(1024)\n",
    "            while data:\n",
    "                stream.write(data)\n",
    "                data = wf.readframes(1024)\n",
    "            stream.stop_stream()\n",
    "            stream.close()\n",
    "            wf.close()\n",
    "\n",
    "if __name__ == '__main__':\n",
    "    app = QApplication(sys.argv)\n",
    "    window = MainWindow()\n",
    "    sys.exit(app.exec_())\n"
   ]
  },
  {
   "cell_type": "code",
   "execution_count": null,
   "id": "f44871e7",
   "metadata": {},
   "outputs": [],
   "source": []
  },
  {
   "cell_type": "code",
   "execution_count": null,
   "id": "1a0a9bd5",
   "metadata": {},
   "outputs": [],
   "source": []
  }
 ],
 "metadata": {
  "kernelspec": {
   "display_name": "Python 3 (ipykernel)",
   "language": "python",
   "name": "python3"
  },
  "language_info": {
   "codemirror_mode": {
    "name": "ipython",
    "version": 3
   },
   "file_extension": ".py",
   "mimetype": "text/x-python",
   "name": "python",
   "nbconvert_exporter": "python",
   "pygments_lexer": "ipython3",
   "version": "3.9.12"
  }
 },
 "nbformat": 4,
 "nbformat_minor": 5
}
