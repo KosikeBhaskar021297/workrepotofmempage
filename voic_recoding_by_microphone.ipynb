{
 "cells": [
  {
   "cell_type": "code",
   "execution_count": 13,
   "id": "2bee7b93",
   "metadata": {},
   "outputs": [
    {
     "name": "stdout",
     "output_type": "stream",
     "text": [
      "Recording...\n",
      "result2:\n",
      "{   'alternative': [   {'confidence': 0.88687539, 'transcript': 'stop'},\n",
      "                       {'transcript': 'stop stop'},\n",
      "                       {'transcript': 'Bhaskar Chiranjeevi Swapna stop'},\n",
      "                       {'transcript': 'Bhaskar Chiranjeevi stop'},\n",
      "                       {'transcript': 'Bhaskar Chiranjeevi Swapna stop stop'}],\n",
      "    'final': True}\n",
      "Recognized text: stop\n"
     ]
    }
   ],
   "source": [
    "import speech_recognition as sr\n",
    "import datetime\n",
    "\n",
    "# Set the duration of recording\n",
    "record_duration = 20  # seconds\n",
    "\n",
    "# Record audio from the microphone\n",
    "r = sr.Recognizer()\n",
    "with sr.Microphone() as source:\n",
    "    r.adjust_for_ambient_noise(source,record_duration)\n",
    "    print(\"Recording...\")\n",
    "    audio = r.record(source, duration=record_duration)\n",
    "\n",
    "# Save the recorded audio to a file\n",
    "\n",
    "filename = datetime.datetime.now().strftime(\"%Y-%m-%d_%H-%M-%S\") + \".wav\"\n",
    "with open(filename, \"wb\") as f:\n",
    "    f.write(audio.get_wav_data())\n",
    "\n",
    "# Recognize the speech from the audio file using Google's speech recognition service\n",
    "try:\n",
    "    text = r.recognize_google(audio)\n",
    "    print(f\"Recognized text: {text}\")\n",
    "except sr.UnknownValueError:\n",
    "    print(\"Could not understand audio\")\n",
    "except sr.RequestError as e:\n",
    "    print(f\"Could not request results from Google Speech Recognition service; {e}\")"
   ]
  },
  {
   "cell_type": "code",
   "execution_count": null,
   "id": "40e79128",
   "metadata": {},
   "outputs": [],
   "source": []
  }
 ],
 "metadata": {
  "kernelspec": {
   "display_name": "Python 3 (ipykernel)",
   "language": "python",
   "name": "python3"
  },
  "language_info": {
   "codemirror_mode": {
    "name": "ipython",
    "version": 3
   },
   "file_extension": ".py",
   "mimetype": "text/x-python",
   "name": "python",
   "nbconvert_exporter": "python",
   "pygments_lexer": "ipython3",
   "version": "3.9.12"
  }
 },
 "nbformat": 4,
 "nbformat_minor": 5
}
