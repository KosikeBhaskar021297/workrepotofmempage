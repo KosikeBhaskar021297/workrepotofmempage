{
 "cells": [
  {
   "cell_type": "code",
   "execution_count": 1,
   "id": "ff005955",
   "metadata": {},
   "outputs": [],
   "source": [
    "\n",
    "import cv2\n",
    "\n",
    "# Global variable to indicate whether the camera is running or not\n",
    "camera_running = False\n",
    "\n",
    "def start_camera():\n",
    "    global camera_running\n",
    "\n",
    "    # Open the default camera\n",
    "    cap = cv2.VideoCapture(0)\n",
    "\n",
    "    # Check if camera opened successfully\n",
    "    if not cap.isOpened():\n",
    "        print(\"Error opening video stream or file\")\n",
    "        return\n",
    "\n",
    "    # Set camera_running to True\n",
    "    camera_running = True\n",
    "\n",
    "    # Read until video is completed or camera_running is set to False\n",
    "    while cap.isOpened() and camera_running:\n",
    "        # Capture frame-by-frame\n",
    "        ret, frame = cap.read()\n",
    "\n",
    "        if ret:\n",
    "            # Display the resulting frame\n",
    "            cv2.imshow('Frame', frame)\n",
    "\n",
    "            # Wait for 25 milliseconds and check for key press\n",
    "            if cv2.waitKey(25):\n",
    "                break\n",
    "        else:\n",
    "            break\n",
    "\n",
    "    # Release the video capture object and close all windows\n",
    "    cap.release()\n",
    "    cv2.destroyAllWindows()\n",
    "\n",
    "def stop_camera():\n",
    "    global camera_running\n",
    "\n",
    "    # Set camera_running to False\n",
    "    camera_running = False"
   ]
  }
 ],
 "metadata": {
  "kernelspec": {
   "display_name": "Python 3 (ipykernel)",
   "language": "python",
   "name": "python3"
  },
  "language_info": {
   "codemirror_mode": {
    "name": "ipython",
    "version": 3
   },
   "file_extension": ".py",
   "mimetype": "text/x-python",
   "name": "python",
   "nbconvert_exporter": "python",
   "pygments_lexer": "ipython3",
   "version": "3.9.12"
  }
 },
 "nbformat": 4,
 "nbformat_minor": 5
}
